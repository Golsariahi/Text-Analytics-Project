{
 "cells": [
  {
   "cell_type": "markdown",
   "metadata": {},
   "source": []
  },
  {
   "cell_type": "code",
   "execution_count": 1,
   "metadata": {
    "colab": {
     "base_uri": "https://localhost:8080/"
    },
    "id": "12avWUelJUsW",
    "outputId": "e91071ad-8863-4eb9-ad31-24ac0c705809"
   },
   "outputs": [
    {
     "name": "stderr",
     "output_type": "stream",
     "text": [
      "[nltk_data] Downloading package brown to\n",
      "[nltk_data]     C:\\Users\\Golsa\\AppData\\Roaming\\nltk_data...\n",
      "[nltk_data]   Package brown is already up-to-date!\n"
     ]
    }
   ],
   "source": [
    "#Import necessary libraries\n",
    "import nltk\n",
    "nltk.download('brown')\n",
    "from nltk.corpus import brown\n",
    "import itertools\n",
    "import string\n",
    "import math\n",
    "import pandas as pd\n",
    "import random\n",
    "import collections\n",
    "\n"
   ]
  },
  {
   "cell_type": "markdown",
   "metadata": {},
   "source": [
    "**(a) Write a code from the scratch that learns unigram and bigram models on the training data as Python dictionaries. Report the perplexity of your unigram and bigram models on the both training data and test data.**"
   ]
  },
  {
   "cell_type": "code",
   "execution_count": 2,
   "metadata": {},
   "outputs": [],
   "source": [
    "#Split the dataset\n",
    "dataset = [sentence for sentence in brown.sents()]\n",
    "dataset_train = dataset[0:40138]\n",
    "dataset_vald = dataset[40139:45873]\n",
    "dataset_test = dataset[45874:]"
   ]
  },
  {
   "cell_type": "code",
   "execution_count": 3,
   "metadata": {},
   "outputs": [
    {
     "name": "stdout",
     "output_type": "stream",
     "text": [
      "57340\n",
      "40138\n",
      "5734\n",
      "11466\n"
     ]
    }
   ],
   "source": [
    "#print train, test and validation \n",
    "print(len(dataset))\n",
    "print(len(dataset_train))\n",
    "print(len(dataset_vald))\n",
    "print(len(dataset_test))"
   ]
  },
  {
   "cell_type": "code",
   "execution_count": 4,
   "metadata": {
    "scrolled": true
   },
   "outputs": [
    {
     "name": "stdout",
     "output_type": "stream",
     "text": [
      "Total corpus for training set :  890689\n"
     ]
    }
   ],
   "source": [
    "# Total number of tokens in training data(unigram )\n",
    "d_t = list(itertools.chain.from_iterable(dataset_train))\n",
    "total_dtrain = len(d_t)\n",
    "print(\"Total corpus for training set : \", total_dtrain)"
   ]
  },
  {
   "cell_type": "code",
   "execution_count": 5,
   "metadata": {},
   "outputs": [],
   "source": [
    "#process data (remove punctuation, empty strings,...)\n",
    "def pre_process_data(sents):\n",
    "    for i in range(len(sents)):\n",
    "        # remove punctuations\n",
    "        sents[i] = [''.join(c for c in s if c not in string.punctuation) for s in sents[i]]\n",
    "        # empty strings removing\n",
    "        sents[i] = [s for s in sents[i] if s] \n",
    "         # lower case\n",
    "        sents[i] = [word.lower() for word in sents[i]]\n",
    "         # Append </s> at the end of each sentence in the corpus\n",
    "        sents[i] += ['</s>', '</s>']\n",
    "         # Append <s> at the beginning of each sentence in the corpus\n",
    "        sents[i].insert(0, '<s>') \n",
    "        # Append <s> at the beginning of each sentence in the corpus\n",
    "        sents[i].insert(0, '<s>')  \n",
    "    print(\"No of sentences in Corpus: \"+str(len(sents)))\n",
    "    return sents"
   ]
  },
  {
   "cell_type": "code",
   "execution_count": 6,
   "metadata": {},
   "outputs": [
    {
     "name": "stdout",
     "output_type": "stream",
     "text": [
      "No of sentences in Corpus: 40138\n"
     ]
    }
   ],
   "source": [
    "#print number of sentence\n",
    "dataset_train = pre_process_data(dataset_train)"
   ]
  },
  {
   "cell_type": "code",
   "execution_count": 7,
   "metadata": {},
   "outputs": [
    {
     "name": "stdout",
     "output_type": "stream",
     "text": [
      "Vocabulary Size of training data:  42235\n"
     ]
    }
   ],
   "source": [
    "#total number of vocab\n",
    "def vocab(dataset):\n",
    "    ds = set(itertools.chain.from_iterable(dataset))\n",
    "    # remove <s> and </s> \n",
    "    ds.remove('<s>')\n",
    "    ds.remove('</s>')\n",
    "    ds = list(ds)\n",
    "    ds.append('<s>')\n",
    "    ds.append('</s>')\n",
    "    return ds\n",
    "\n",
    "dtrn_vocab = vocab(dataset_train)\n",
    "#print tot vocab\n",
    "dtrn_vocab_size = len(dtrn_vocab)\n",
    "print(\"Vocabulary Size of training data: \", dtrn_vocab_size)"
   ]
  },
  {
   "cell_type": "code",
   "execution_count": 8,
   "metadata": {},
   "outputs": [
    {
     "name": "stdout",
     "output_type": "stream",
     "text": [
      "Number of unique words in corpus : 42235\n",
      "Number of words in corpus: 785353\n"
     ]
    }
   ],
   "source": [
    "def unique_word_func(dataset):\n",
    "    # change the nested list to one single list\n",
    "    collection_words = list(itertools.chain.from_iterable(dataset)) \n",
    "     # No of words in the corpus excluding <s> and </s>.\n",
    "    corpus_word_count = 0\n",
    "    #count the no. of times a word repeats in the corpus\n",
    "    count = {}\n",
    "    for word in collection_words:\n",
    "        if word in count :\n",
    "            count[word] += 1\n",
    "        else:\n",
    "            count[word] = 1\n",
    "        if word != '<s>' and word != '</s>':\n",
    "             corpus_word_count +=1\n",
    "    # number of unique words\n",
    "    unique_word_count = len(count) \n",
    "    print(\"Number of unique words in corpus : \"+ str(unique_word_count))\n",
    "    print(\"Number of words in corpus: \"+ str(corpus_word_count))\n",
    "    return count\n",
    "#print unigram freq\n",
    "unigram_freq = unique_word_func(dataset_train)"
   ]
  },
  {
   "cell_type": "markdown",
   "metadata": {},
   "source": [
    "Unigram Model"
   ]
  },
  {
   "cell_type": "code",
   "execution_count": 9,
   "metadata": {},
   "outputs": [],
   "source": [
    "#Unigram Mode\n",
    "def unigram_model_prob(word_freq, total_tokens):\n",
    "    unigram = {}\n",
    "    for w in word_freq:\n",
    "        unigram[w] = word_freq[w] /total_tokens\n",
    "    return unigram\n",
    "    \n",
    "#unigram_probabilities\n",
    "unigram_probabilities = unigram_model_prob(unigram_freq, total_dtrain)"
   ]
  },
  {
   "cell_type": "markdown",
   "metadata": {},
   "source": [
    "Bigram Model"
   ]
  },
  {
   "cell_type": "code",
   "execution_count": 10,
   "metadata": {},
   "outputs": [],
   "source": [
    "#Calculate the bigram frequencies \n",
    "def bigram_model_freq(lines):\n",
    "    bigram_frequencies = dict()\n",
    "    for sentence in lines:\n",
    "        given_word = None\n",
    "        for word in sentence:\n",
    "            if given_word != None:\n",
    "                bigram_frequencies[(given_word, word)] = bigram_frequencies.get((given_word, word),0) + 1\n",
    "            given_word = word    \n",
    "    return bigram_frequencies\n",
    "\n",
    "#bigram freq\n",
    "bigram_freq = bigram_model_freq(dataset_train)\n"
   ]
  },
  {
   "cell_type": "code",
   "execution_count": 11,
   "metadata": {},
   "outputs": [],
   "source": [
    "# Calculating bigram probability\n",
    "def bigram_model_prob(bigram_freq, unique_freq, denom = 0, add_l=False):\n",
    "    bigram_prob = dict() \n",
    "    for key in bigram_freq:\n",
    "        numerator = bigram_freq.get(key)\n",
    "        if add_l:\n",
    "            denominator = unique_freq.get(key[0])+denom\n",
    "        else:\n",
    "            denominator = unique_freq.get(key[0]) # get the frequency of \"given word\" in the corpus.\n",
    "        if (numerator == 0 or denominator== 0):\n",
    "            bigram_prob[key] = 0\n",
    "        else:\n",
    "            bigram_prob[key] = float(numerator)/float(denominator)\n",
    "    return bigram_prob\n",
    "#bigram prob\n",
    "bigram_probabilities = bigram_model_prob(bigram_freq,unigram_freq)\n"
   ]
  },
  {
   "cell_type": "markdown",
   "metadata": {},
   "source": [
    "Perplexity"
   ]
  },
  {
   "cell_type": "code",
   "execution_count": 12,
   "metadata": {},
   "outputs": [
    {
     "name": "stdout",
     "output_type": "stream",
     "text": [
      "No of sentences in Corpus: 11466\n",
      "No of sentences in Corpus: 5734\n"
     ]
    }
   ],
   "source": [
    "#Preproce test and validation data\n",
    "d_trn = list(itertools.chain.from_iterable(dataset_train))\n",
    "d_tst = pre_process_data(dataset_test)\n",
    "d_tst = list(itertools.chain.from_iterable(d_tst))\n",
    "d_val = pre_process_data(dataset_vald)\n",
    "d_val = list(itertools.chain.from_iterable(d_val))"
   ]
  },
  {
   "cell_type": "code",
   "execution_count": 13,
   "metadata": {},
   "outputs": [],
   "source": [
    "# perplexity calcuation\n",
    "def perplexity(ngrams, model):\n",
    "    perplexity = 0\n",
    "    N = 0\n",
    "    for word in ngrams:\n",
    "        N += 1\n",
    "        if(word in model):\n",
    "            perplexity = perplexity + math.log(model[word],2)        \n",
    "    perplexity = -(perplexity * 1/N )\n",
    "    return pow(2,perplexity)"
   ]
  },
  {
   "cell_type": "code",
   "execution_count": 14,
   "metadata": {},
   "outputs": [
    {
     "name": "stdout",
     "output_type": "stream",
     "text": [
      "Unigram Perplexity on training set: 730.130991189557\n",
      "Unigram Perplexity on Val set: 378.65046453661864\n",
      "Unigram Perplexity on test set: 377.645417328154\n"
     ]
    }
   ],
   "source": [
    "##Perplexity of unigram for training,val and test data\n",
    "\n",
    "#Perplexity of unigram in training data\n",
    "uni_train_perplexity = perplexity(d_trn, unigram_probabilities)\n",
    "uni_train_perplexity\n",
    "print(f'Unigram Perplexity on training set: {uni_train_perplexity}')\n",
    "\n",
    "#Perplexity of unigram validation data\n",
    "uni_val_perplexity = perplexity(d_val, unigram_probabilities)\n",
    "uni_val_perplexity\n",
    "print(f'Unigram Perplexity on Val set: {uni_val_perplexity}')\n",
    "\n",
    "#Perplexity of unigram test data\n",
    "uni_test_perplexity = perplexity(d_tst, unigram_probabilities)\n",
    "uni_test_perplexity\n",
    "print(f'Unigram Perplexity on test set: {uni_test_perplexity}')\n"
   ]
  },
  {
   "cell_type": "code",
   "execution_count": 15,
   "metadata": {},
   "outputs": [
    {
     "name": "stdout",
     "output_type": "stream",
     "text": [
      "Bigram Perplexity on training set: 49.87132625761988\n",
      "Bigram Perplexity on val set: 12.276443909371919\n",
      "Bigram Perplexity on test set: 11.836979146604865\n"
     ]
    }
   ],
   "source": [
    "##Perplexity of bigram training,val and test data\n",
    "\n",
    "#bigrams for training data\n",
    "bigrams_trn = list(zip(*[d_trn[i:] for i in range(2)]))\n",
    "bi_train_perplexity = perplexity(bigrams_trn, bigram_probabilities)\n",
    "bi_train_perplexity\n",
    "print(f'Bigram Perplexity on training set: {bi_train_perplexity}')\n",
    "\n",
    "\n",
    "#bigrams for validation data\n",
    "bigrams_val = list(zip(*[d_val[i:] for i in range(2)]))\n",
    "bi_val_perplexity = perplexity(bigrams_val, bigram_probabilities)\n",
    "bi_val_perplexity\n",
    "print(f'Bigram Perplexity on val set: {bi_val_perplexity}')\n",
    "\n",
    "\n",
    "#bigrams for test data\n",
    "bigrams_tst = list(zip(*[d_tst[i:] for i in range(2)]))\n",
    "bi_tst_perplexity = perplexity(bigrams_tst, bigram_probabilities)\n",
    "bi_tst_perplexity\n",
    "print(f'Bigram Perplexity on test set: {bi_tst_perplexity}')\n"
   ]
  },
  {
   "cell_type": "markdown",
   "metadata": {},
   "source": [
    "**Question (a) Summary:** \n",
    "\n",
    "Unigram Perplexity on training set: 730.130991189557\n",
    "\n",
    "Unigram Perplexity on test set: 377.645417328154\n",
    "\n",
    "\n",
    "\n",
    "Bigram Perplexity on training set: 49.87132625761988\n",
    "\n",
    "Bigram Perplexity on test set: 11.836979146604865\n",
    "\n"
   ]
  },
  {
   "cell_type": "markdown",
   "metadata": {},
   "source": [
    "**(b) Implement add-λ smoothing method. With varying λ values. Draw a curve that measures\n",
    "your perplexity change over different λ values on the developing data.**"
   ]
  },
  {
   "cell_type": "code",
   "execution_count": 16,
   "metadata": {},
   "outputs": [],
   "source": [
    "#Function for smoothened frequencies\n",
    "def add_smoothing(l, freq):\n",
    "    s_freq = dict()\n",
    "    #s_prob = dict()\n",
    "    for key in freq.keys():\n",
    "        if freq.get(key) == None:\n",
    "            s_freq[key] = l\n",
    "        else:\n",
    "            s_freq[key] = freq.get(key)+l\n",
    "    return s_freq\n",
    "\n"
   ]
  },
  {
   "cell_type": "code",
   "execution_count": 17,
   "metadata": {},
   "outputs": [],
   "source": [
    "#calculaye perplexity for different lambda values\n",
    "lamda = [ 0.001, 0.01, 0.1, 1, 1.5, 2, 5, 10] \n",
    "\n",
    "sfreq_bi = dict()\n",
    "sfreq_uni = dict()\n",
    "df = pd.DataFrame(columns=['lambda_value', 'perplexity_unigram', 'perplexity_bigram'])\n",
    "\n",
    "for l in lamda:\n",
    "    #  smoothened frequencies\n",
    "    sfreq_uni = add_smoothing(l, unigram_freq) \n",
    "    sfreq_bi = add_smoothing(l, bigram_freq) \n",
    "\n",
    "    # smoothened freq prob\n",
    "    sf_uni_prob = unigram_model_prob(sfreq_uni, total_dtrain + l * dtrn_vocab_size)\n",
    "    sf_bi_prob = bigram_model_prob(sfreq_bi, sfreq_uni, l * dtrn_vocab_size, add_l=True)\n",
    "\n",
    "    # Perplexity on val data\n",
    "    sf_uni_perp = perplexity(d_val, sf_uni_prob)\n",
    "    sf_bi_perp = perplexity(bigrams_val, sf_bi_prob)\n",
    "\n",
    "    # lambda and perplexity values\n",
    "    df = df.append({'lambda_value': l, 'perplexity_unigram': sf_uni_perp, 'perplexity_bigram': sf_bi_perp}, ignore_index=True)"
   ]
  },
  {
   "cell_type": "code",
   "execution_count": 18,
   "metadata": {},
   "outputs": [
    {
     "data": {
      "text/html": [
       "<div>\n",
       "<style scoped>\n",
       "    .dataframe tbody tr th:only-of-type {\n",
       "        vertical-align: middle;\n",
       "    }\n",
       "\n",
       "    .dataframe tbody tr th {\n",
       "        vertical-align: top;\n",
       "    }\n",
       "\n",
       "    .dataframe thead th {\n",
       "        text-align: right;\n",
       "    }\n",
       "</style>\n",
       "<table border=\"1\" class=\"dataframe\">\n",
       "  <thead>\n",
       "    <tr style=\"text-align: right;\">\n",
       "      <th></th>\n",
       "      <th>lambda_value</th>\n",
       "      <th>perplexity_unigram</th>\n",
       "      <th>perplexity_bigram</th>\n",
       "    </tr>\n",
       "  </thead>\n",
       "  <tbody>\n",
       "    <tr>\n",
       "      <th>0</th>\n",
       "      <td>0.001</td>\n",
       "      <td>378.655185</td>\n",
       "      <td>13.537346</td>\n",
       "    </tr>\n",
       "    <tr>\n",
       "      <th>1</th>\n",
       "      <td>0.010</td>\n",
       "      <td>378.697942</td>\n",
       "      <td>17.406994</td>\n",
       "    </tr>\n",
       "    <tr>\n",
       "      <th>2</th>\n",
       "      <td>0.100</td>\n",
       "      <td>379.151249</td>\n",
       "      <td>29.475438</td>\n",
       "    </tr>\n",
       "    <tr>\n",
       "      <th>3</th>\n",
       "      <td>1.000</td>\n",
       "      <td>385.342376</td>\n",
       "      <td>66.497294</td>\n",
       "    </tr>\n",
       "    <tr>\n",
       "      <th>4</th>\n",
       "      <td>1.500</td>\n",
       "      <td>389.527800</td>\n",
       "      <td>78.349715</td>\n",
       "    </tr>\n",
       "    <tr>\n",
       "      <th>5</th>\n",
       "      <td>2.000</td>\n",
       "      <td>394.005223</td>\n",
       "      <td>88.176717</td>\n",
       "    </tr>\n",
       "    <tr>\n",
       "      <th>6</th>\n",
       "      <td>5.000</td>\n",
       "      <td>423.668186</td>\n",
       "      <td>128.584087</td>\n",
       "    </tr>\n",
       "    <tr>\n",
       "      <th>7</th>\n",
       "      <td>10.000</td>\n",
       "      <td>475.944238</td>\n",
       "      <td>169.229439</td>\n",
       "    </tr>\n",
       "  </tbody>\n",
       "</table>\n",
       "</div>"
      ],
      "text/plain": [
       "   lambda_value  perplexity_unigram  perplexity_bigram\n",
       "0         0.001          378.655185          13.537346\n",
       "1         0.010          378.697942          17.406994\n",
       "2         0.100          379.151249          29.475438\n",
       "3         1.000          385.342376          66.497294\n",
       "4         1.500          389.527800          78.349715\n",
       "5         2.000          394.005223          88.176717\n",
       "6         5.000          423.668186         128.584087\n",
       "7        10.000          475.944238         169.229439"
      ]
     },
     "execution_count": 18,
     "metadata": {},
     "output_type": "execute_result"
    }
   ],
   "source": [
    "df"
   ]
  },
  {
   "cell_type": "code",
   "execution_count": 19,
   "metadata": {},
   "outputs": [
    {
     "data": {
      "text/plain": [
       "<AxesSubplot:title={'center':'Perplexity of Unigram Model with different values of lambda'}, xlabel='Lambda', ylabel='Perplexity'>"
      ]
     },
     "execution_count": 19,
     "metadata": {},
     "output_type": "execute_result"
    },
    {
     "data": {
      "image/png": "[encoded data removed]",
      "text/plain": [
       "<Figure size 432x288 with 1 Axes>"
      ]
     },
     "metadata": {
      "needs_background": "light"
     },
     "output_type": "display_data"
    }
   ],
   "source": [
    "# Graph of lambda vs. perplexity (unigram model)\n",
    "\n",
    "df.plot(x='lambda_value', y='perplexity_unigram', xlabel= 'Lambda', ylabel = 'Perplexity', title = \"Perplexity of Unigram Model with different values of lambda\")"
   ]
  },
  {
   "cell_type": "code",
   "execution_count": 20,
   "metadata": {},
   "outputs": [
    {
     "data": {
      "text/plain": [
       "<AxesSubplot:title={'center':'Perplexity of Bigram Model with different values of lambda'}, xlabel='Lambda', ylabel='Perplexity'>"
      ]
     },
     "execution_count": 20,
     "metadata": {},
     "output_type": "execute_result"
    },
    {
     "data": {
      "image/png": "[encoded data removed]",
      "text/plain": [
       "<Figure size 432x288 with 1 Axes>"
      ]
     },
     "metadata": {
      "needs_background": "light"
     },
     "output_type": "display_data"
    }
   ],
   "source": [
    "# graph different values of lambda and perplexity (bigram model)\n",
    "\n",
    "df.plot(x='lambda_value', y='perplexity_bigram', xlabel= 'Lambda', ylabel = 'Perplexity', title = \"Perplexity of Bigram Model with different values of lambda\")"
   ]
  },
  {
   "cell_type": "markdown",
   "metadata": {},
   "source": [
    "**(c) Pick the best lambda value(s) and train again your unigram and bigram models on training data + developing data. Report new perplexity of your unigram and bigram models on the test data.**"
   ]
  },
  {
   "cell_type": "markdown",
   "metadata": {},
   "source": [
    "We will use  lambda value as 0.001 for both model."
   ]
  },
  {
   "cell_type": "code",
   "execution_count": 21,
   "metadata": {},
   "outputs": [
    {
     "name": "stdout",
     "output_type": "stream",
     "text": [
      "Total corpus before preprocessing :  979662\n",
      "No of sentences in Corpus: 45873\n",
      "Vocabulary Size :  44143\n"
     ]
    }
   ],
   "source": [
    "# combine training and validation data\n",
    "d_trn_val = dataset[0:45873]\n",
    "\n",
    "# Total number of tokens in dataset for unigram \n",
    "tok_trn_val = list(itertools.chain.from_iterable(d_trn_val))\n",
    "tot_tok_trn_val = len(tok_trn_val)\n",
    "print(\"Total corpus before preprocessing : \", tot_tok_trn_val)\n",
    "\n",
    "#Preprocess data\n",
    "d_trnval_pre = pre_process_data(d_trn_val)\n",
    "data_trn_val = list(itertools.chain.from_iterable(d_trnval_pre))\n",
    "\n",
    "#Vocabulary size\n",
    "dtrnval_vocab = vocab(d_trn_val)\n",
    "dtrnval_vocab_size = len(dtrnval_vocab)\n",
    "print(\"Vocabulary Size : \", dtrnval_vocab_size)\n"
   ]
  },
  {
   "cell_type": "code",
   "execution_count": 22,
   "metadata": {},
   "outputs": [
    {
     "name": "stdout",
     "output_type": "stream",
     "text": [
      "Number of unique words in corpus : 44143\n",
      "Number of words in corpus: 860874\n"
     ]
    }
   ],
   "source": [
    "# calculate the Unigram and Bigram frequencies for the new data\n",
    "nds_unigram_freq = unique_word_func(d_trnval_pre)\n",
    "nds_bigram_freq = bigram_model_freq(d_trnval_pre)\n",
    "\n",
    "#Bigrams for new dataset\n",
    "bigrams_trnval = list(zip(*[data_trn_val[i:] for i in range(2)]))"
   ]
  },
  {
   "cell_type": "code",
   "execution_count": 23,
   "metadata": {
    "scrolled": true
   },
   "outputs": [],
   "source": [
    "#Calculating smoothened frequencies\n",
    "suni_f = add_smoothing(0.001, nds_unigram_freq)\n",
    "sbi_f = add_smoothing(0.001, nds_bigram_freq)\n",
    "\n",
    "#Probablities for smoothened freq\n",
    "suni_prob = unigram_model_prob(suni_f, tot_tok_trn_val + 0.001 * dtrnval_vocab_size)\n",
    "sbi_prob = bigram_model_prob(sbi_f,suni_f, 0.001 * dtrnval_vocab_size)\n",
    "\n",
    "\n",
    "#Perplexity of the model on validation data\n",
    "suni_perp = perplexity(data_trn_val, suni_prob)\n",
    "sbi_perp = perplexity(bigrams_trnval, sbi_prob)\n"
   ]
  },
  {
   "cell_type": "code",
   "execution_count": 24,
   "metadata": {
    "scrolled": true
   },
   "outputs": [
    {
     "name": "stdout",
     "output_type": "stream",
     "text": [
      "Perplexity of unigram model using lambda value 0.001 :  707.9696504676833\n",
      "Perplexity of bigram model using lambda value 0.001 :  50.5476244749373\n"
     ]
    }
   ],
   "source": [
    "#print \n",
    "print(\"Perplexity of unigram model using lambda value 0.001 : \",suni_perp )\n",
    "print(\"Perplexity of bigram model using lambda value 0.001 : \",sbi_perp )"
   ]
  },
  {
   "cell_type": "code",
   "execution_count": 25,
   "metadata": {},
   "outputs": [
    {
     "name": "stdout",
     "output_type": "stream",
     "text": [
      "Perplexity of unigram model on test data:  370.5289096515584\n",
      "Perplexity of bigram model on test data:  12.835516421926783\n"
     ]
    }
   ],
   "source": [
    "# Perplexity for test data\n",
    "#unigram \n",
    "uni_test_perp = perplexity(d_tst, suni_prob)\n",
    "\n",
    "#bigrams\n",
    "bi_val_perp = perplexity(bigrams_tst, sbi_prob)\n",
    "\n",
    "#print\n",
    "print(\"Perplexity of unigram model on test data: \", uni_test_perp)\n",
    "print(\"Perplexity of bigram model on test data: \", bi_val_perp)"
   ]
  },
  {
   "cell_type": "markdown",
   "metadata": {},
   "source": [
    "**Summary question (c)**\n",
    "\n",
    "Perplexity of unigram model on test data: 1.3150479657829957\n",
    "\n",
    "Perplexity of bigram model on test data: 12.835516421926783\n"
   ]
  },
  {
   "cell_type": "markdown",
   "metadata": {},
   "source": [
    "**(d) Generate random sentences based on the unigram and bigram language models from part\n",
    "(c). Report 5 sentences per model by sampling words from each model continuously until\n",
    "meeting the stop symbol ⟨/s⟩.**\n"
   ]
  },
  {
   "cell_type": "code",
   "execution_count": 26,
   "metadata": {},
   "outputs": [],
   "source": [
    "#This function builds context information and counts  \n",
    "#the occurrences of n-grams in a given dataset\n",
    "def context_counter(freq, n):\n",
    "    context = {}\n",
    "    ngram_counter = {}\n",
    "\n",
    "    for ngram in freq.keys():\n",
    "        if ngram in ngram_counter:\n",
    "            ngram_counter[ngram] += 1.0\n",
    "        else:\n",
    "            ngram_counter[ngram] = 1.0\n",
    "        if n == 2:\n",
    "            prev_words, target_word = ngram\n",
    "        elif n == 3:\n",
    "            prev_words = ngram[0:2]\n",
    "            target_word = ngram[2]\n",
    "        if prev_words in context:\n",
    "            context[prev_words].append(target_word)\n",
    "        else:\n",
    "            context[prev_words] = [target_word]\n",
    "            \n",
    "    return context, ngram_counter"
   ]
  },
  {
   "cell_type": "code",
   "execution_count": 27,
   "metadata": {},
   "outputs": [],
   "source": [
    "# this function to randomly choose word based on context \n",
    "#of training data\n",
    "def generate_random_token(word, prob, context, n):\n",
    "    r = random.random()\n",
    "    map_to_probs = {}\n",
    "    if n > 2:\n",
    "        token_of_interest = context[word] \n",
    "        for token in token_of_interest:\n",
    "            ngram = word + (token,)\n",
    "            map_to_probs[token] = prob.get(ngram)\n",
    "    else:\n",
    "        for i in word:\n",
    "            token_of_interest = context[i] \n",
    "            given_word = i\n",
    "        for token in token_of_interest:\n",
    "            map_to_probs[token] = prob.get((given_word, token))\n",
    "    summ = 0\n",
    "    for token in sorted(map_to_probs):\n",
    "        summ += map_to_probs[token]\n",
    "        if summ > r:\n",
    "            return token\n"
   ]
  },
  {
   "cell_type": "code",
   "execution_count": 28,
   "metadata": {},
   "outputs": [],
   "source": [
    "#function to generate random text\n",
    "def generate_random_text(n, prob, context):\n",
    "    context_queue = (n-1) * ['<s>']\n",
    "    result = []\n",
    "    obj = \"\"\n",
    "    while obj != '</s>':\n",
    "        if n > 2:\n",
    "            obj = generate_random_token(tuple(context_queue), prob, context, n)\n",
    "        else:\n",
    "            obj = generate_random_token(context_queue, prob, context, n)\n",
    "        if (obj != '</s>' and obj != '<s>'):\n",
    "            result.append(obj)\n",
    "        if n > 1:\n",
    "            context_queue.pop(0)\n",
    "            context_queue.append(obj)\n",
    "    return ' '.join(result)\n"
   ]
  },
  {
   "cell_type": "code",
   "execution_count": 29,
   "metadata": {},
   "outputs": [
    {
     "name": "stdout",
     "output_type": "stream",
     "text": [
      "1 )  in the provisional government has largely undermined our settlements the process to shelleys pensioner and electronic switches may be exaggerated ideas which manufactured boat is being fitted with him as outlined above all cases which 03 wt as for her first if it it possible that the north american camera and mission actually controls or dyed hair and jean baptiste reinhardt the vertical direction and a process by acknowledged and then the entire united states of fully this latter\n",
      "2 )  a panoramic look in comparison with his case and occasionally used to follow\n",
      "3 )  the beatnik like a sneer the old south\n",
      "4 )  there had once benjamin ford commission has plunged into a generation of the animal insect repellent and even after more on his ledger there were fretting and ruthless to appraise realistically long since their roots cool she would not attempted nothing at his hat drawn from the skopas house\n",
      "5 )  quakers and dartmouth student who are protected with this textform list is placing them all snowwhite\n"
     ]
    }
   ],
   "source": [
    "#Generate 5 sentences (bigram)\n",
    "context_sbi, counter_sbi = context_counter(sbi_f, 2)\n",
    "\n",
    "for i in range(1,6):\n",
    "    sentence = generate_random_text(2, sbi_prob, context_sbi)\n",
    "    print(i,\") \", sentence)\n"
   ]
  },
  {
   "cell_type": "code",
   "execution_count": 30,
   "metadata": {},
   "outputs": [],
   "source": [
    "# Unigram\n",
    "\n",
    "# For Unigram\n",
    "\n",
    "def next(dict):\n",
    "    total = 0\n",
    "    for key, value in dict.items():\n",
    "        total += float(value)\n",
    "    random_probability = random.uniform(0, total)       # create random number\n",
    "    temp = 0\n",
    "    for word, probability in dict.items():\n",
    "        if temp + float(probability) > random_probability: # When you reach the random number take the word.\n",
    "            return word\n",
    "        temp += float(probability)  \n",
    "\n",
    "def generate_sent_uni(dict):\n",
    "    sentence =[]\n",
    "    generated_word = ''\n",
    "    while (generated_word != '</s>' and generated_word != '<s>'):\n",
    "      generated_word = next(dict)\n",
    "      if (generated_word != '</s>' and generated_word != '<s>'):\n",
    "        sentence.append(generated_word)\n",
    "    \n",
    "    return ' '.join(sentence)\n",
    "\n"
   ]
  },
  {
   "cell_type": "code",
   "execution_count": 31,
   "metadata": {},
   "outputs": [
    {
     "name": "stdout",
     "output_type": "stream",
     "text": [
      "1 )  aureomycin with would\n",
      "2 )  mondrian factor suffocating\n",
      "3 )  each the\n",
      "4 )  suffered cholesterol been in and private or 1 two\n",
      "5 )  stand well only jewelry future of resolve lb two firm to would grudges\n"
     ]
    }
   ],
   "source": [
    "#Generate 5 sentences for unigram\n",
    "for i in range(1,6):\n",
    "  sentence = generate_sent_uni(suni_prob)\n",
    "  print(i,\") \", sentence)\n",
    "\n"
   ]
  },
  {
   "cell_type": "markdown",
   "metadata": {},
   "source": [
    "**e) Choose at least one additional extension to implement. The available options are trigram, Good-Turing smoothing, interpolation method, and creative handling of unknown\n",
    "words. Verify quantitative improvement by measuring 1) the perplexity on test data; and\n",
    "qualitative improvement by retrying 2) the random sentence generation in part (d).**"
   ]
  },
  {
   "cell_type": "markdown",
   "metadata": {},
   "source": [
    "### Tri-Gram Model"
   ]
  },
  {
   "cell_type": "code",
   "execution_count": 32,
   "metadata": {},
   "outputs": [],
   "source": [
    "#calculate the trigram freq\n",
    "def trigram_model_freq(lines):\n",
    "    trigram_frequencies = dict()\n",
    "    \n",
    "    for sentence in lines:\n",
    "        prev_given_word = None\n",
    "        given_word = None\n",
    "        \n",
    "        for word in sentence:\n",
    "            if prev_given_word is not None and given_word is not None:\n",
    "                trigram = (prev_given_word, given_word, word)\n",
    "                trigram_frequencies[trigram] = trigram_frequencies.get(trigram, 0) + 1\n",
    "            \n",
    "            prev_given_word = given_word\n",
    "            given_word = word\n",
    "    \n",
    "    return trigram_frequencies\n",
    "\n"
   ]
  },
  {
   "cell_type": "code",
   "execution_count": 33,
   "metadata": {},
   "outputs": [],
   "source": [
    "tri_f = trigram_model_freq(d_trnval_pre)"
   ]
  },
  {
   "cell_type": "code",
   "execution_count": 34,
   "metadata": {},
   "outputs": [],
   "source": [
    "#Calculate trigram prob\n",
    "def trigram_model_prob(tri_freq, bi_freq, denom=0, smooth=False):\n",
    "    trigram_model = {}\n",
    "    for trigram, count in tri_freq.items():\n",
    "        bigram = trigram[:2]\n",
    "        if smooth:\n",
    "            trigram_model[trigram] = count / (bi_freq.get(bigram, 0) + denom)\n",
    "        else:\n",
    "            trigram_model[trigram] = count / bi_freq.get(bigram, 1)  # Add-one smoothing\n",
    "\n",
    "    return trigram_model\n"
   ]
  },
  {
   "cell_type": "code",
   "execution_count": 35,
   "metadata": {},
   "outputs": [],
   "source": [
    "tri_prob = trigram_model_prob(tri_f, nds_bigram_freq)"
   ]
  },
  {
   "cell_type": "code",
   "execution_count": 36,
   "metadata": {},
   "outputs": [
    {
     "data": {
      "text/plain": [
       "5.190404218992427"
      ]
     },
     "execution_count": 36,
     "metadata": {},
     "output_type": "execute_result"
    }
   ],
   "source": [
    "# Perplexity of Trigram model on training data\n",
    "trigrams_trn = list(zip(*[data_trn_val[i:] for i in range(3)]))\n",
    "tri_trn_perp = perplexity(trigrams_trn, tri_prob)\n",
    "tri_trn_perp\n"
   ]
  },
  {
   "cell_type": "code",
   "execution_count": 37,
   "metadata": {},
   "outputs": [
    {
     "data": {
      "text/plain": [
       "2.1930950498971473"
      ]
     },
     "execution_count": 37,
     "metadata": {},
     "output_type": "execute_result"
    }
   ],
   "source": [
    "# Perplexity of Trigram model on test data\n",
    "trigrams_tst = list(zip(*[d_tst[i:] for i in range(3)]))\n",
    "tri_tst_perp = perplexity(trigrams_tst, tri_prob)\n",
    "tri_tst_perp"
   ]
  },
  {
   "cell_type": "markdown",
   "metadata": {},
   "source": [
    "**Apply Lambda smoothing for the model**"
   ]
  },
  {
   "cell_type": "code",
   "execution_count": 42,
   "metadata": {},
   "outputs": [],
   "source": [
    "# Add-lambda Smoothing for Trigram Model\n",
    "lamda = [ 0.001, 0.01, 0.1, 1, 1.5, 2, 5, 10] \n",
    "\n",
    "sfreq_tri= dict()\n",
    "df_tri = pd.DataFrame(columns=['lambda_value', 'perplexity_trigram'])\n",
    "\n",
    "for l in lamda:\n",
    "    # Calculating smoothened frequencies for trigrams\n",
    "    sfreq_tri = add_smoothing(l, tri_f)\n",
    "    #sfreq_bi = add_smoothing(l, nds_bigram_freq)\n",
    "\n",
    "    # Probabilities for smoothened trigrams\n",
    "    sf_tri_prob = trigram_model_prob(sfreq_tri, sfreq_bi, l * dtrnval_vocab_size, smooth= True)\n",
    "\n",
    "    # Perplexity of the trigram model on validation data\n",
    "    sf_tri_perp = perplexity(trigrams_trn, sf_tri_prob)\n",
    "\n",
    "    # Collecting lambda and perplexity values\n",
    "    df_tri = df_tri.append({'lambda_value': l, 'perplexity_trigram': sf_tri_perp}, ignore_index=True)\n"
   ]
  },
  {
   "cell_type": "code",
   "execution_count": 44,
   "metadata": {},
   "outputs": [
    {
     "data": {
      "text/plain": [
       "<AxesSubplot:title={'center':'Perplexity of Trigram Model based on lambda values'}, xlabel='lambda_value', ylabel='Perplexity'>"
      ]
     },
     "execution_count": 44,
     "metadata": {},
     "output_type": "execute_result"
    },
    {
     "data": {
      "image/png": "[encoded data removed]",
      "text/plain": [
       "<Figure size 432x288 with 1 Axes>"
      ]
     },
     "metadata": {
      "needs_background": "light"
     },
     "output_type": "display_data"
    }
   ],
   "source": [
    "# plotting the graph for different values of lambda and their respective perplexity for unigram model\n",
    "\n",
    "df_tri.plot(x='lambda_value', y='perplexity_trigram', xlabel= 'lambda_value', ylabel = 'Perplexity', title = \"Perplexity of Trigram Model based on lambda values\")"
   ]
  },
  {
   "cell_type": "code",
   "execution_count": 45,
   "metadata": {},
   "outputs": [
    {
     "name": "stdout",
     "output_type": "stream",
     "text": [
      "Perplexity of train data :  36.057895164966155\n"
     ]
    }
   ],
   "source": [
    "#Calculating smoothened freq\n",
    "sbi_f = add_smoothing(0.001, nds_bigram_freq)\n",
    "stri_f = add_smoothing(0.001,tri_f)\n",
    "\n",
    "#Probablities for smoothened freq\n",
    "stri_prob = trigram_model_prob(stri_f, sbi_f, 0.001 * dtrnval_vocab_size, smooth=True)\n",
    "\n",
    "#Perplexity of the model on training data\n",
    "sf_tri_trn_perp = perplexity(trigrams_trn, stri_prob)\n",
    "print(\"Perplexity of train data : \", sf_tri_trn_perp)"
   ]
  },
  {
   "cell_type": "code",
   "execution_count": 46,
   "metadata": {},
   "outputs": [
    {
     "name": "stdout",
     "output_type": "stream",
     "text": [
      "Perplexity of test data :  2.1930950498971473\n"
     ]
    }
   ],
   "source": [
    "sf_tri_tst_perp = perplexity(trigrams_tst, stri_prob)\n",
    "print(\"Perplexity of test data : \",tri_tst_perp)"
   ]
  },
  {
   "cell_type": "code",
   "execution_count": 48,
   "metadata": {},
   "outputs": [
    {
     "name": "stdout",
     "output_type": "stream",
     "text": [
      "1 )  hengesbach has been and is in essence a fragile precious little piece of wax to marble in tactile quality and justice\n",
      "2 )  develop wildlife openings food patches and game management practices there is only seen by some as thermostatics to the other charge was nolle prossed\n",
      "3 )  as my wife could drive us into temptation for a given commercial organic active\n",
      "4 )  mr skyros too smart a fellow who has catalogued for easy reference and has come to dominate childrens clothing taking the visitor from the theatre of marcellus give you a couple more cops to hold them until the morphophonemics is worked out at once\n",
      "5 )  i say chantey\n"
     ]
    }
   ],
   "source": [
    "def generate_textt(n, prob, context):\n",
    "    context_queue = ['<s>'] * (n - 1)\n",
    "    result = []\n",
    "    obj = \"\"\n",
    "\n",
    "    while obj != '</s>' and obj != '<s>':\n",
    "        if n > 2:\n",
    "            obj = generate_random_token(tuple(context_queue), prob, context, n)\n",
    "        else:\n",
    "            obj = generate_random_token(context_queue, prob, context, n)\n",
    "        if obj is not None:\n",
    "            if obj != '</s>' and obj != '<s>':\n",
    "                result.append(obj)\n",
    "            if n > 1:\n",
    "                context_queue.pop(0)\n",
    "                context_queue.append(obj)\n",
    "\n",
    "    return ' '.join(result)\n",
    "\n",
    "# Generate 5 sentences for trigram\n",
    "context_stri, counter_stri = context_counter(tri_f, 3)\n",
    "\n",
    "for i in range(1,6):\n",
    "    sentence = generate_textt(3, tri_prob, context_stri)\n",
    "    print(i,\") \", sentence)\n"
   ]
  },
  {
   "cell_type": "code",
   "execution_count": null,
   "metadata": {},
   "outputs": [],
   "source": []
  }
 ],
 "metadata": {
  "colab": {
   "provenance": []
  },
  "kernelspec": {
   "display_name": "Python 3 (ipykernel)",
   "language": "python",
   "name": "python3"
  },
  "language_info": {
   "codemirror_mode": {
    "name": "ipython",
    "version": 3
   },
   "file_extension": ".py",
   "mimetype": "text/x-python",
   "name": "python",
   "nbconvert_exporter": "python",
   "pygments_lexer": "ipython3",
   "version": "3.9.7"
  },
  "vscode": {
   "interpreter": {
    "hash": "189b3c741059cfac7129d2b964ba56ff8423df29714003ab8e6c2c089b6b741c"
   }
  }
 },
 "nbformat": 4,
 "nbformat_minor": 1
}
